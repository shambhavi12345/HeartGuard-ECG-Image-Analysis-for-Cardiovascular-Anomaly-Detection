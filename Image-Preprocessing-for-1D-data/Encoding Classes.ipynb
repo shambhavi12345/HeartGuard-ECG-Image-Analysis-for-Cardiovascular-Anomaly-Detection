{
 "cells": [
  {
   "cell_type": "code",
   "execution_count": 5,
   "id": "45662a02-3841-4c92-8600-b4dad35bc9b8",
   "metadata": {},
   "outputs": [],
   "source": [
    "import pandas as pd\n",
    "\n",
    "# List of filenames for each lead (assuming you have 12 lead CSVs)\n",
    "lead_files = [\n",
    "    \"combined_IDLead_1.csv\",\n",
    "    \"combined_IDLead_2.csv\",\n",
    "    \"combined_IDLead_3.csv\",\n",
    "    \"combined_IDLead_4.csv\",\n",
    "    \"combined_IDLead_5.csv\",\n",
    "    \"combined_IDLead_6.csv\",\n",
    "    \"combined_IDLead_7.csv\",\n",
    "    \"combined_IDLead_8.csv\",\n",
    "    \"combined_IDLead_9.csv\",\n",
    "    \"combined_IDLead_10.csv\",\n",
    "    \"combined_IDLead_11.csv\",\n",
    "    \"combined_IDLead_12.csv\"\n",
    "]"
   ]
  },
  {
   "cell_type": "code",
   "execution_count": 7,
   "id": "796e7c00-37ac-4733-8ca4-ce3d4d2b0da2",
   "metadata": {},
   "outputs": [
    {
     "name": "stdout",
     "output_type": "stream",
     "text": [
      "Combined data saved to combined_data.csv\n"
     ]
    }
   ],
   "source": [
    "# Initialize an empty list to hold DataFrames for each lead\n",
    "dfs = []\n",
    "\n",
    "# Loop over each file to load and process it\n",
    "for lead_file in lead_files:\n",
    "    df = pd.read_csv(r\"C:\\Users\\sihus\\OneDrive\\Desktop\\MAJOR PROJECT 2024\\combined_Leads\\{}\".format(lead_file))\n",
    "    dfs.append(df.iloc[:, :-1])  # Exclude the last column (Target column)\n",
    "\n",
    "# Now concatenate the DataFrames along the columns (axis=1)\n",
    "combined_data = pd.concat(dfs, axis=1)\n",
    "\n",
    "# Load the target column (the last column from any of the DataFrames, assuming all have the same target column)\n",
    "target_column = pd.read_csv(r\"C:\\Users\\sihus\\OneDrive\\Desktop\\MAJOR PROJECT 2024\\combined_Leads\\{}\".format(lead_files[0]))['Target']\n",
    "\n",
    "# Add the target column to the combined data\n",
    "combined_data['Target'] = target_column\n",
    "\n",
    "# Save the combined data to a new CSV file\n",
    "combined_data.to_csv(r\"C:\\Users\\sihus\\OneDrive\\Desktop\\MAJOR PROJECT 2024\\combined_data.csv\", index=False)\n",
    "\n",
    "print(\"Combined data saved to combined_data.csv\")"
   ]
  },
  {
   "cell_type": "code",
   "execution_count": 13,
   "id": "9c7a556f-4cb8-4d26-ae8d-72c3b1ed35c0",
   "metadata": {},
   "outputs": [
    {
     "name": "stdout",
     "output_type": "stream",
     "text": [
      "Cleaned and renamed data saved as cleaned_combined_data.csv\n"
     ]
    }
   ],
   "source": [
    "import pandas as pd\n",
    "\n",
    "# Load the combined dataset\n",
    "df = pd.read_csv(r\"combined_data.csv\")\n",
    "\n",
    "# Drop unnamed columns (commonly index columns from CSVs)\n",
    "df = df.loc[:, ~df.columns.str.contains('^Unnamed')]\n",
    "\n",
    "# Rename columns: 12 leads, each with 255 values\n",
    "num_leads = 12\n",
    "values_per_lead = 255\n",
    "total_features = num_leads * values_per_lead\n",
    "\n",
    "# Get feature columns (exclude 'Target' column)\n",
    "feature_columns = df.columns[df.columns != 'Target']\n",
    "\n",
    "# Generate new column names\n",
    "new_column_names = []\n",
    "for lead in range(1, num_leads + 1):\n",
    "    for value in range(values_per_lead):\n",
    "        new_column_names.append(f\"Lead{lead}_Val{value}\")\n",
    "\n",
    "# Apply new column names to the feature columns\n",
    "df.columns = new_column_names + ['Target']\n",
    "\n",
    "# (Optional) Save cleaned and renamed data\n",
    "df.to_csv(r\"cleaned_combined_data.csv\", index=False)\n",
    "\n",
    "print(\"Cleaned and renamed data saved as cleaned_combined_data.csv\")\n"
   ]
  },
  {
   "cell_type": "code",
   "execution_count": 15,
   "id": "6915c930-b89f-454b-92b0-5676053ddc94",
   "metadata": {},
   "outputs": [
    {
     "name": "stdout",
     "output_type": "stream",
     "text": [
      "Total columns: 3061\n"
     ]
    }
   ],
   "source": [
    "import pandas as pd\n",
    "\n",
    "df = pd.read_csv(\"cleaned_combined_data.csv\")\n",
    "print(\"Total columns:\", df.shape[1])"
   ]
  },
  {
   "cell_type": "code",
   "execution_count": 17,
   "id": "6e99c8c1-cca3-4fae-9237-66fa7d98958f",
   "metadata": {},
   "outputs": [
    {
     "name": "stdout",
     "output_type": "stream",
     "text": [
      "Label mapping: {'HB': 0, 'MI': 1, 'No': 2, 'PM': 3}\n",
      "Encoded CSV saved as 'encoded_cleaned_combined_csv.csv'\n"
     ]
    }
   ],
   "source": [
    "import pandas as pd\n",
    "from sklearn.preprocessing import LabelEncoder\n",
    "\n",
    "# Load the cleaned CSV\n",
    "df = pd.read_csv(r\"C:\\Users\\sihus\\OneDrive\\Desktop\\MAJOR PROJECT 2024\\cleaned_combined_data.csv\")\n",
    "\n",
    "# Initialize the label encoder\n",
    "le = LabelEncoder()\n",
    "\n",
    "# Fit and transform the Target column\n",
    "df['Target'] = le.fit_transform(df['Target'])\n",
    "\n",
    "# Show label mapping\n",
    "label_mapping = dict(zip(le.classes_, le.transform(le.classes_)))\n",
    "print(\"Label mapping:\", label_mapping)\n",
    "\n",
    "# Save to new CSV\n",
    "df.to_csv(r\"C:\\Users\\sihus\\OneDrive\\Desktop\\MAJOR PROJECT 2024\\encoded_cleaned_combined_data.csv\", index=False)\n",
    "\n",
    "print(\"Encoded CSV saved as 'encoded_cleaned_combined_csv.csv'\")\n"
   ]
  }
 ],
 "metadata": {
  "kernelspec": {
   "display_name": "Python 3 (ipykernel)",
   "language": "python",
   "name": "python3"
  },
  "language_info": {
   "codemirror_mode": {
    "name": "ipython",
    "version": 3
   },
   "file_extension": ".py",
   "mimetype": "text/x-python",
   "name": "python",
   "nbconvert_exporter": "python",
   "pygments_lexer": "ipython3",
   "version": "3.12.3"
  }
 },
 "nbformat": 4,
 "nbformat_minor": 5
}
